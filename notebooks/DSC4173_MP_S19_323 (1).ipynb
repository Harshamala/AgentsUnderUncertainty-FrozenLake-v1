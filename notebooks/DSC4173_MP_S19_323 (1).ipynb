{
  "nbformat": 4,
  "nbformat_minor": 0,
  "metadata": {
    "colab": {
      "provenance": []
    },
    "kernelspec": {
      "name": "python3",
      "display_name": "Python 3"
    },
    "language_info": {
      "name": "python"
    }
  },
  "cells": [
    {
      "cell_type": "markdown",
      "source": [
        "a)"
      ],
      "metadata": {
        "id": "8MyWfNoQHMjK"
      }
    },
    {
      "cell_type": "code",
      "source": [
        "import gymnasium as gym\n",
        "\n",
        "# (a) Create FrozenLake-v1 4x4 environment\n",
        "env = gym.make('FrozenLake-v1', map_name=\"4x4\", is_slippery=True)\n",
        "print(\"Environment created:\", env)\n"
      ],
      "metadata": {
        "colab": {
          "base_uri": "https://localhost:8080/"
        },
        "id": "03YPRTqGLOk1",
        "outputId": "d9423afa-a0af-4c50-b1b9-3532d34669bb"
      },
      "execution_count": 46,
      "outputs": [
        {
          "output_type": "stream",
          "name": "stdout",
          "text": [
            "Environment created: <TimeLimit<OrderEnforcing<PassiveEnvChecker<FrozenLakeEnv<FrozenLake-v1>>>>>\n"
          ]
        }
      ]
    },
    {
      "cell_type": "markdown",
      "source": [
        "b)"
      ],
      "metadata": {
        "id": "RBZMKuuuHa6c"
      }
    },
    {
      "cell_type": "code",
      "source": [
        "import numpy as np\n",
        "import pandas as pd\n",
        "\n",
        "EPISODES = 10000\n",
        "data_log = []\n",
        "\n",
        "def compute_goal_proximity(state):\n",
        "    row, col = divmod(state, 4)\n",
        "    return abs(3 - row) + abs(3 - col)\n",
        "\n",
        "for episode in range(EPISODES):\n",
        "    state, _ = env.reset()\n",
        "    total_reward = 0\n",
        "    episode_data = []\n",
        "    while True:\n",
        "        action = env.action_space.sample()\n",
        "        next_state, reward, terminated, truncated, _ = env.step(action)\n",
        "        total_reward += reward\n",
        "        goal_prox = compute_goal_proximity(state)\n",
        "        episode_data.append([state, action, reward, goal_prox])\n",
        "        state = next_state\n",
        "        if terminated or truncated:\n",
        "            break\n",
        "    for row in episode_data:\n",
        "        row.append(total_reward)\n",
        "        data_log.append(row)\n",
        "\n",
        "df = pd.DataFrame(data_log, columns=[\"State\", \"Action\", \"Reward\", \"Goal_Proximity\", \"Total_Reward\"])\n",
        "print(df.head())\n"
      ],
      "metadata": {
        "colab": {
          "base_uri": "https://localhost:8080/"
        },
        "id": "7QwKv0qeHhkf",
        "outputId": "62be9bfe-558c-4bbb-ff79-0c29858a49c0"
      },
      "execution_count": 47,
      "outputs": [
        {
          "output_type": "stream",
          "name": "stdout",
          "text": [
            "   State  Action  Reward  Goal_Proximity  Total_Reward\n",
            "0      0       0     0.0               6           0.0\n",
            "1      4       1     0.0               5           0.0\n",
            "2      0       0     0.0               6           0.0\n",
            "3      0       3     0.0               6           0.0\n",
            "4      0       1     0.0               6           0.0\n"
          ]
        }
      ]
    },
    {
      "cell_type": "markdown",
      "source": [
        "c)"
      ],
      "metadata": {
        "id": "2-e-rMIgHkyD"
      }
    },
    {
      "cell_type": "code",
      "source": [
        "success_episodes = df[df[\"Total_Reward\"] == 1][\"Total_Reward\"].count()\n",
        "success_rate = success_episodes / EPISODES\n",
        "print(f\"Random agent success rate: {success_rate:.4f}\")\n"
      ],
      "metadata": {
        "colab": {
          "base_uri": "https://localhost:8080/"
        },
        "id": "X8-jF_RPHpih",
        "outputId": "798ad4a3-2130-47f0-b2e2-fd5526387e30"
      },
      "execution_count": 49,
      "outputs": [
        {
          "output_type": "stream",
          "name": "stdout",
          "text": [
            "Random agent success rate: 0.2285\n"
          ]
        }
      ]
    },
    {
      "cell_type": "markdown",
      "source": [
        "d)"
      ],
      "metadata": {
        "id": "tAFdjqPvHv3M"
      }
    },
    {
      "cell_type": "code",
      "source": [
        "df[\"Importance\"] = df[\"Total_Reward\"]\n",
        "print(df.head())"
      ],
      "metadata": {
        "colab": {
          "base_uri": "https://localhost:8080/"
        },
        "id": "WfTKn6bMHxSJ",
        "outputId": "256e9d83-4414-4ee6-b976-a5ccc4762439"
      },
      "execution_count": 50,
      "outputs": [
        {
          "output_type": "stream",
          "name": "stdout",
          "text": [
            "   State  Action  Reward  Goal_Proximity  Total_Reward  Importance\n",
            "0      0       0     0.0               6           0.0         0.0\n",
            "1      4       1     0.0               5           0.0         0.0\n",
            "2      0       0     0.0               6           0.0         0.0\n",
            "3      0       3     0.0               6           0.0         0.0\n",
            "4      0       1     0.0               6           0.0         0.0\n"
          ]
        }
      ]
    },
    {
      "cell_type": "markdown",
      "source": [
        "e)"
      ],
      "metadata": {
        "id": "k-eFcVQWJ9AM"
      }
    },
    {
      "cell_type": "code",
      "source": [
        "from sklearn.ensemble import RandomForestRegressor\n",
        "\n",
        "X = df[[\"State\", \"Action\", \"Goal_Proximity\"]]\n",
        "y = df[\"Importance\"]\n",
        "\n",
        "rf_model = RandomForestRegressor(n_estimators=100, n_jobs=-1)\n",
        "rf_model.fit(X, y)\n",
        "\n",
        "print(\"Random Forest model trained successfully.\")"
      ],
      "metadata": {
        "colab": {
          "base_uri": "https://localhost:8080/"
        },
        "id": "B5Zymn8eLsUK",
        "outputId": "ec18373d-c4c9-45b1-99ab-b71faa384edc"
      },
      "execution_count": 51,
      "outputs": [
        {
          "output_type": "stream",
          "name": "stdout",
          "text": [
            "Random Forest model trained successfully.\n"
          ]
        }
      ]
    },
    {
      "cell_type": "markdown",
      "source": [
        "f)"
      ],
      "metadata": {
        "id": "euuPmaUcKVIB"
      }
    },
    {
      "cell_type": "code",
      "source": [
        "import numpy as np\n",
        "\n",
        "predict_cache = {}\n",
        "\n",
        "def guided_agent(state):\n",
        "    values = []\n",
        "    for action in range(env.action_space.n):\n",
        "        goal_prox = compute_goal_proximity(state)\n",
        "        key = (state, action, goal_prox)\n",
        "        if key in predict_cache:\n",
        "            value = predict_cache[key]\n",
        "        else:\n",
        "            value = rf_model.predict([[state, action, goal_prox]])[0]\n",
        "            predict_cache[key] = value\n",
        "        values.append(value)\n",
        "    return np.argmax(values)\n"
      ],
      "metadata": {
        "id": "PJUYednZL9ma"
      },
      "execution_count": 52,
      "outputs": []
    },
    {
      "cell_type": "markdown",
      "source": [
        "g)"
      ],
      "metadata": {
        "id": "0oKG90LhKfwy"
      }
    },
    {
      "cell_type": "code",
      "source": [
        "guided_success = []\n",
        "for episode in range(EPISODES):\n",
        "    state, _ = env.reset()\n",
        "    total_reward = 0\n",
        "    while True:\n",
        "        action = guided_agent(state)\n",
        "        next_state, reward, terminated, truncated, _ = env.step(action)\n",
        "        total_reward += reward\n",
        "        state = next_state\n",
        "        if terminated or truncated:\n",
        "            break\n",
        "    guided_success.append(total_reward)\n",
        "\n",
        "guided_success_rate = np.mean(guided_success)\n",
        "print(f\"Guided agent success rate: {guided_success_rate:.4f}\")"
      ],
      "metadata": {
        "colab": {
          "base_uri": "https://localhost:8080/"
        },
        "id": "p-RYg4hrNH5g",
        "outputId": "5675e920-360d-48c6-a142-9b3c1f6b6438"
      },
      "execution_count": 53,
      "outputs": [
        {
          "output_type": "stream",
          "name": "stderr",
          "text": [
            "/usr/local/lib/python3.11/dist-packages/sklearn/utils/validation.py:2739: UserWarning: X does not have valid feature names, but RandomForestRegressor was fitted with feature names\n",
            "  warnings.warn(\n",
            "/usr/local/lib/python3.11/dist-packages/sklearn/utils/validation.py:2739: UserWarning: X does not have valid feature names, but RandomForestRegressor was fitted with feature names\n",
            "  warnings.warn(\n",
            "/usr/local/lib/python3.11/dist-packages/sklearn/utils/validation.py:2739: UserWarning: X does not have valid feature names, but RandomForestRegressor was fitted with feature names\n",
            "  warnings.warn(\n",
            "/usr/local/lib/python3.11/dist-packages/sklearn/utils/validation.py:2739: UserWarning: X does not have valid feature names, but RandomForestRegressor was fitted with feature names\n",
            "  warnings.warn(\n",
            "/usr/local/lib/python3.11/dist-packages/sklearn/utils/validation.py:2739: UserWarning: X does not have valid feature names, but RandomForestRegressor was fitted with feature names\n",
            "  warnings.warn(\n",
            "/usr/local/lib/python3.11/dist-packages/sklearn/utils/validation.py:2739: UserWarning: X does not have valid feature names, but RandomForestRegressor was fitted with feature names\n",
            "  warnings.warn(\n",
            "/usr/local/lib/python3.11/dist-packages/sklearn/utils/validation.py:2739: UserWarning: X does not have valid feature names, but RandomForestRegressor was fitted with feature names\n",
            "  warnings.warn(\n",
            "/usr/local/lib/python3.11/dist-packages/sklearn/utils/validation.py:2739: UserWarning: X does not have valid feature names, but RandomForestRegressor was fitted with feature names\n",
            "  warnings.warn(\n",
            "/usr/local/lib/python3.11/dist-packages/sklearn/utils/validation.py:2739: UserWarning: X does not have valid feature names, but RandomForestRegressor was fitted with feature names\n",
            "  warnings.warn(\n",
            "/usr/local/lib/python3.11/dist-packages/sklearn/utils/validation.py:2739: UserWarning: X does not have valid feature names, but RandomForestRegressor was fitted with feature names\n",
            "  warnings.warn(\n",
            "/usr/local/lib/python3.11/dist-packages/sklearn/utils/validation.py:2739: UserWarning: X does not have valid feature names, but RandomForestRegressor was fitted with feature names\n",
            "  warnings.warn(\n",
            "/usr/local/lib/python3.11/dist-packages/sklearn/utils/validation.py:2739: UserWarning: X does not have valid feature names, but RandomForestRegressor was fitted with feature names\n",
            "  warnings.warn(\n",
            "/usr/local/lib/python3.11/dist-packages/sklearn/utils/validation.py:2739: UserWarning: X does not have valid feature names, but RandomForestRegressor was fitted with feature names\n",
            "  warnings.warn(\n",
            "/usr/local/lib/python3.11/dist-packages/sklearn/utils/validation.py:2739: UserWarning: X does not have valid feature names, but RandomForestRegressor was fitted with feature names\n",
            "  warnings.warn(\n",
            "/usr/local/lib/python3.11/dist-packages/sklearn/utils/validation.py:2739: UserWarning: X does not have valid feature names, but RandomForestRegressor was fitted with feature names\n",
            "  warnings.warn(\n",
            "/usr/local/lib/python3.11/dist-packages/sklearn/utils/validation.py:2739: UserWarning: X does not have valid feature names, but RandomForestRegressor was fitted with feature names\n",
            "  warnings.warn(\n",
            "/usr/local/lib/python3.11/dist-packages/sklearn/utils/validation.py:2739: UserWarning: X does not have valid feature names, but RandomForestRegressor was fitted with feature names\n",
            "  warnings.warn(\n",
            "/usr/local/lib/python3.11/dist-packages/sklearn/utils/validation.py:2739: UserWarning: X does not have valid feature names, but RandomForestRegressor was fitted with feature names\n",
            "  warnings.warn(\n",
            "/usr/local/lib/python3.11/dist-packages/sklearn/utils/validation.py:2739: UserWarning: X does not have valid feature names, but RandomForestRegressor was fitted with feature names\n",
            "  warnings.warn(\n",
            "/usr/local/lib/python3.11/dist-packages/sklearn/utils/validation.py:2739: UserWarning: X does not have valid feature names, but RandomForestRegressor was fitted with feature names\n",
            "  warnings.warn(\n",
            "/usr/local/lib/python3.11/dist-packages/sklearn/utils/validation.py:2739: UserWarning: X does not have valid feature names, but RandomForestRegressor was fitted with feature names\n",
            "  warnings.warn(\n",
            "/usr/local/lib/python3.11/dist-packages/sklearn/utils/validation.py:2739: UserWarning: X does not have valid feature names, but RandomForestRegressor was fitted with feature names\n",
            "  warnings.warn(\n",
            "/usr/local/lib/python3.11/dist-packages/sklearn/utils/validation.py:2739: UserWarning: X does not have valid feature names, but RandomForestRegressor was fitted with feature names\n",
            "  warnings.warn(\n",
            "/usr/local/lib/python3.11/dist-packages/sklearn/utils/validation.py:2739: UserWarning: X does not have valid feature names, but RandomForestRegressor was fitted with feature names\n",
            "  warnings.warn(\n",
            "/usr/local/lib/python3.11/dist-packages/sklearn/utils/validation.py:2739: UserWarning: X does not have valid feature names, but RandomForestRegressor was fitted with feature names\n",
            "  warnings.warn(\n",
            "/usr/local/lib/python3.11/dist-packages/sklearn/utils/validation.py:2739: UserWarning: X does not have valid feature names, but RandomForestRegressor was fitted with feature names\n",
            "  warnings.warn(\n",
            "/usr/local/lib/python3.11/dist-packages/sklearn/utils/validation.py:2739: UserWarning: X does not have valid feature names, but RandomForestRegressor was fitted with feature names\n",
            "  warnings.warn(\n",
            "/usr/local/lib/python3.11/dist-packages/sklearn/utils/validation.py:2739: UserWarning: X does not have valid feature names, but RandomForestRegressor was fitted with feature names\n",
            "  warnings.warn(\n",
            "/usr/local/lib/python3.11/dist-packages/sklearn/utils/validation.py:2739: UserWarning: X does not have valid feature names, but RandomForestRegressor was fitted with feature names\n",
            "  warnings.warn(\n",
            "/usr/local/lib/python3.11/dist-packages/sklearn/utils/validation.py:2739: UserWarning: X does not have valid feature names, but RandomForestRegressor was fitted with feature names\n",
            "  warnings.warn(\n",
            "/usr/local/lib/python3.11/dist-packages/sklearn/utils/validation.py:2739: UserWarning: X does not have valid feature names, but RandomForestRegressor was fitted with feature names\n",
            "  warnings.warn(\n",
            "/usr/local/lib/python3.11/dist-packages/sklearn/utils/validation.py:2739: UserWarning: X does not have valid feature names, but RandomForestRegressor was fitted with feature names\n",
            "  warnings.warn(\n",
            "/usr/local/lib/python3.11/dist-packages/sklearn/utils/validation.py:2739: UserWarning: X does not have valid feature names, but RandomForestRegressor was fitted with feature names\n",
            "  warnings.warn(\n",
            "/usr/local/lib/python3.11/dist-packages/sklearn/utils/validation.py:2739: UserWarning: X does not have valid feature names, but RandomForestRegressor was fitted with feature names\n",
            "  warnings.warn(\n",
            "/usr/local/lib/python3.11/dist-packages/sklearn/utils/validation.py:2739: UserWarning: X does not have valid feature names, but RandomForestRegressor was fitted with feature names\n",
            "  warnings.warn(\n",
            "/usr/local/lib/python3.11/dist-packages/sklearn/utils/validation.py:2739: UserWarning: X does not have valid feature names, but RandomForestRegressor was fitted with feature names\n",
            "  warnings.warn(\n",
            "/usr/local/lib/python3.11/dist-packages/sklearn/utils/validation.py:2739: UserWarning: X does not have valid feature names, but RandomForestRegressor was fitted with feature names\n",
            "  warnings.warn(\n",
            "/usr/local/lib/python3.11/dist-packages/sklearn/utils/validation.py:2739: UserWarning: X does not have valid feature names, but RandomForestRegressor was fitted with feature names\n",
            "  warnings.warn(\n",
            "/usr/local/lib/python3.11/dist-packages/sklearn/utils/validation.py:2739: UserWarning: X does not have valid feature names, but RandomForestRegressor was fitted with feature names\n",
            "  warnings.warn(\n",
            "/usr/local/lib/python3.11/dist-packages/sklearn/utils/validation.py:2739: UserWarning: X does not have valid feature names, but RandomForestRegressor was fitted with feature names\n",
            "  warnings.warn(\n"
          ]
        },
        {
          "output_type": "stream",
          "name": "stdout",
          "text": [
            "Guided agent success rate: 0.7341\n"
          ]
        }
      ]
    },
    {
      "cell_type": "markdown",
      "source": [
        "h)"
      ],
      "metadata": {
        "id": "U6I8YFLxN0HA"
      }
    },
    {
      "cell_type": "code",
      "source": [
        "EPSILON = 0.1\n",
        "\n",
        "def improved_agent(state):\n",
        "    if np.random.rand() < EPSILON:\n",
        "        return env.action_space.sample()\n",
        "    else:\n",
        "        return guided_agent(state)\n",
        "\n",
        "improved_success = []\n",
        "for episode in range(EPISODES):\n",
        "    state, _ = env.reset()\n",
        "    total_reward = 0\n",
        "    while True:\n",
        "        action = improved_agent(state)\n",
        "        next_state, reward, terminated, truncated, _ = env.step(action)\n",
        "        total_reward += reward\n",
        "        state = next_state\n",
        "        if terminated or truncated:\n",
        "            break\n",
        "    improved_success.append(total_reward)\n",
        "\n",
        "improved_success_rate = np.mean(improved_success)\n",
        "print(f\"Improved agent success rate: {improved_success_rate:.4f}\")\n"
      ],
      "metadata": {
        "colab": {
          "base_uri": "https://localhost:8080/"
        },
        "id": "4VcRPix5MNgB",
        "outputId": "70fdc226-8e3e-4475-bcca-c189e13a90ac"
      },
      "execution_count": 54,
      "outputs": [
        {
          "output_type": "stream",
          "name": "stderr",
          "text": [
            "/usr/local/lib/python3.11/dist-packages/sklearn/utils/validation.py:2739: UserWarning: X does not have valid feature names, but RandomForestRegressor was fitted with feature names\n",
            "  warnings.warn(\n",
            "/usr/local/lib/python3.11/dist-packages/sklearn/utils/validation.py:2739: UserWarning: X does not have valid feature names, but RandomForestRegressor was fitted with feature names\n",
            "  warnings.warn(\n",
            "/usr/local/lib/python3.11/dist-packages/sklearn/utils/validation.py:2739: UserWarning: X does not have valid feature names, but RandomForestRegressor was fitted with feature names\n",
            "  warnings.warn(\n",
            "/usr/local/lib/python3.11/dist-packages/sklearn/utils/validation.py:2739: UserWarning: X does not have valid feature names, but RandomForestRegressor was fitted with feature names\n",
            "  warnings.warn(\n"
          ]
        },
        {
          "output_type": "stream",
          "name": "stdout",
          "text": [
            "Improved agent success rate: 0.4061\n"
          ]
        }
      ]
    },
    {
      "cell_type": "code",
      "source": [
        "EPSILON_START = 1.0      # Start fully exploring\n",
        "EPSILON_END = 0.1        # Minimum exploration\n",
        "DECAY_RATE = 0.001       # Controls how quickly ε decays\n",
        "MAX_STEPS = 100\n",
        "improved_success = []\n",
        "epsilon = EPSILON_START\n",
        "\n",
        "for episode in range(EPISODES):\n",
        "    state, _ = env.reset()\n",
        "    total_reward = 0\n",
        "\n",
        "    # Decay epsilon\n",
        "    epsilon = EPSILON_END + (EPSILON_START - EPSILON_END) * np.exp(-DECAY_RATE * episode)\n",
        "\n",
        "    for step in range(MAX_STEPS):\n",
        "        if np.random.rand() < epsilon:\n",
        "            action = env.action_space.sample()   # Explore\n",
        "        else:\n",
        "            action = guided_agent(state)         # Exploit\n",
        "\n",
        "        next_state, reward, terminated, truncated, _ = env.step(action)\n",
        "        total_reward += reward\n",
        "        state = next_state\n",
        "\n",
        "        if terminated or truncated:\n",
        "            break\n",
        "\n",
        "    improved_success.append(total_reward)\n",
        "\n",
        "improved_success_rate = np.mean(improved_success)\n",
        "print(f\"Improved agent success rate: {improved_success_rate:.4f}\")"
      ],
      "metadata": {
        "colab": {
          "base_uri": "https://localhost:8080/"
        },
        "id": "7AxkY2LLLNbR",
        "outputId": "12d797a0-31dd-40c8-8a47-8ac21d8e3b4d"
      },
      "execution_count": null,
      "outputs": [
        {
          "output_type": "stream",
          "name": "stdout",
          "text": [
            "Improved agent success rate: 0.3213\n"
          ]
        }
      ]
    },
    {
      "cell_type": "markdown",
      "source": [
        "i)"
      ],
      "metadata": {
        "id": "b5zuSJZVMzb5"
      }
    },
    {
      "cell_type": "code",
      "source": [
        "import matplotlib.pyplot as plt\n",
        "\n",
        "plt.figure(figsize=(6,4))\n",
        "bars = plt.bar(\n",
        "    [\"Random\", \"Guided\", \"Improved\"],\n",
        "    [success_rate, guided_success_rate, improved_success_rate],\n",
        "    color=['red', 'blue', 'green']\n",
        ")\n",
        "plt.title(\"Agent Success Rates on FrozenLake-v1 (4×4)\")\n",
        "plt.ylabel(\"Proportion of Successful Episodes\")\n",
        "\n",
        "for bar in bars:\n",
        "    yval = bar.get_height()\n",
        "    plt.text(bar.get_x() + bar.get_width()/2, yval + 0.002, f\"{yval:.3f}\", ha='center', va='bottom')\n",
        "\n",
        "plt.ylim(0, max(success_rate, guided_success_rate, improved_success_rate) + 0.02)\n",
        "plt.show()\n"
      ],
      "metadata": {
        "colab": {
          "base_uri": "https://localhost:8080/",
          "height": 391
        },
        "id": "Euk9FyleMcHf",
        "outputId": "c43b72c9-341c-42d2-d86a-bfa9da572480"
      },
      "execution_count": 55,
      "outputs": [
        {
          "output_type": "display_data",
          "data": {
            "text/plain": [
              "<Figure size 600x400 with 1 Axes>"
            ],
            "image/png": "[encoded data removed]"
          },
          "metadata": {}
        }
      ]
    }
  ]
}